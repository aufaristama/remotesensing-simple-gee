{
 "cells": [
  {
   "cell_type": "markdown",
   "metadata": {},
   "source": [
    "## VISUALIZATION ICELAND MAXIMUM LAND SURFACE TEMPERATURE 2014-2020 (LANDSAT 8) USING GOOGLE EARTH ENGINE IN PYTHON (JUPYTER NOTEBOOK)\n",
    "\n",
    "### To access the data, you have to create an account on https://signup.earthengine.google.com/#!/, this step might take some time. Then, install and connect your Python to the API using the terminal (I reccomend using Anaconda). Then I reccomend to read through Qiusheng Wu, 2020 (https://github.com/giswqs/geemap) to build the GEE java script code in python from scratch.\n"
   ]
  },
  {
   "cell_type": "code",
   "execution_count": 15,
   "metadata": {},
   "outputs": [],
   "source": [
    "# Installs geemap package\n",
    "import subprocess\n",
    "try:\n",
    "    import geemap\n",
    "except ImportError:\n",
    "    print('geemap package not installed. Installing ...')\n",
    "    subprocess.check_call([\"python\", '-m', 'pip', 'install', 'geemap'])\n",
    "\n",
    "# Checks whether this notebook is running on Google Colab\n",
    "try:\n",
    "    import google.colab\n",
    "    import geemap.eefolium as emap\n",
    "except:\n",
    "    import geemap as emap\n",
    "\n",
    "# Authenticates and initializes Earth Engine\n",
    "import ee\n",
    "\n",
    "try:\n",
    "    ee.Initialize()\n",
    "except Exception as e:\n",
    "    ee.Authenticate()\n",
    "    ee.Initialize()  "
   ]
  },
  {
   "cell_type": "code",
   "execution_count": 16,
   "metadata": {},
   "outputs": [
    {
     "data": {
      "application/vnd.jupyter.widget-view+json": {
       "model_id": "83e842f2d6c046f0b33d4ee1b865a8c1",
       "version_major": 2,
       "version_minor": 0
      },
      "text/plain": [
       "Map(center=[64, -18], controls=(WidgetControl(options=['position'], widget=HBox(children=(ToggleButton(value=F…"
      ]
     },
     "metadata": {},
     "output_type": "display_data"
    }
   ],
   "source": [
    "# Shows Iceland Base map\n",
    "Map = emap.Map(center=[64,-18], zoom=5)\n",
    "Map.add_basemap('SATELLITE') # Add Google Map\n",
    "Map"
   ]
  },
  {
   "cell_type": "markdown",
   "metadata": {},
   "source": [
    "### Visualized Iceland Land Surface Temperature (LST) using Landsat 8 during 2014-2020"
   ]
  },
  {
   "cell_type": "code",
   "execution_count": 17,
   "metadata": {},
   "outputs": [],
   "source": [
    "dataset = ee.FeatureCollection('USDOS/LSIB_SIMPLE/2017');\n",
    "\n",
    "#Apply filter where country name equals Iceland.\n",
    "icelandBorder = dataset.filter(ee.Filter.eq('country_co', 'IC'));\n",
    "\n",
    "#Load Landsat 8 brightness temperature data for 6 year.\n",
    "temps2020 = ee.ImageCollection('LANDSAT/LC08/C01/T1_TOA')\\\n",
    "    .filterDate('2014-06-01','2020-5-01')\\\n",
    "    .select('B10')\n",
    "    \n",
    "clippedtemps2020 = temps2020.max().clip(icelandBorder);\n",
    "temps2020Viz = {'min': 277, 'max': 368, 'palette': ['blue','green','orange','red']}\n",
    "Map.addLayer(clippedtemps2020, temps2020Viz, 'Temperature K', False)\n",
    "Map.centerObject(icelandBorder, 5);\n",
    "Map.addLayer(icelandBorder);\n",
    "  \n"
   ]
  }
 ],
 "metadata": {
  "kernelspec": {
   "display_name": "Python 3",
   "language": "python",
   "name": "python3"
  },
  "language_info": {
   "codemirror_mode": {
    "name": "ipython",
    "version": 3
   },
   "file_extension": ".py",
   "mimetype": "text/x-python",
   "name": "python",
   "nbconvert_exporter": "python",
   "pygments_lexer": "ipython3",
   "version": "3.7.7"
  }
 },
 "nbformat": 4,
 "nbformat_minor": 4
}
